{
 "cells": [
  {
   "cell_type": "markdown",
   "metadata": {},
   "source": [
    "### Code for loading the data\n",
    "to load the data you can connect to the ftp client on the website. The code for that can be copied here: https://nsidc.org/support/64231694-FTP-Client-Data-Access "
   ]
  },
  {
   "cell_type": "markdown",
   "metadata": {},
   "source": [
    "#### Loading the daily data for seaice extent  "
   ]
  },
  {
   "cell_type": "code",
   "execution_count": 2,
   "metadata": {},
   "outputs": [
    {
     "name": "stdout",
     "output_type": "stream",
     "text": [
      "Logging in\n",
      "Changing to /DATASETS/NOAA/G02135/north/daily/data\n",
      "['N_seaice_extent_climatology_1981-2010_v3.0.csv', 'N_seaice_extent_daily_v3.0.csv', 'N_seaice_extent_daily_v3.0.csv.bak']\n",
      "Downloading...N_seaice_extent_climatology_1981-2010_v3.0.csv\n",
      "Downloading...N_seaice_extent_daily_v3.0.csv\n",
      "Downloading...N_seaice_extent_daily_v3.0.csv.bak\n"
     ]
    },
    {
     "data": {
      "text/plain": [
       "'221-Goodbye. You uploaded 0 and downloaded 3841 kbytes.\\n221 Logout.'"
      ]
     },
     "execution_count": 2,
     "metadata": {},
     "output_type": "execute_result"
    }
   ],
   "source": [
    "#!/usr/bin/env python\n",
    "# NSIDC\n",
    "# Sample script to download all the files within one directory on the FTP server\n",
    "#\n",
    "# Requires Python3 and the ftplib and os libraries\n",
    "\n",
    "from ftplib import FTP\n",
    "import os\n",
    "\n",
    "### The following 3 variables can be changed ###\n",
    "# 1. Set the directory you would like to download the files to\n",
    "destdir='../data'\n",
    "\n",
    "# 2. Set the path to the FTP directory that contains the data you wish to download.\n",
    "# This example is for the daily northern hemisphere data from the Sea Ice Index\n",
    "# https://nsidc.org/data/g02135\n",
    "directory = '/DATASETS/NOAA/G02135/north/daily/data'\n",
    "\n",
    "# 3. Set the password which will be your email address\n",
    "password = 'kaddy.gorrissen@gmail.com'\n",
    "\n",
    "############################################\n",
    "### Don't need to change this code below ###\n",
    "############################################\n",
    "# FTP server\n",
    "ftpdir = 'sidads.colorado.edu'\n",
    "\n",
    "#Connect and log in to the FTP\n",
    "print('Logging in')\n",
    "ftp = FTP(ftpdir)\n",
    "ftp.login('anonymous',password)\n",
    "\n",
    "# Change to the directory where the files are on the FTP\n",
    "print('Changing to '+ directory)\n",
    "ftp.cwd(directory)\n",
    "\n",
    "# Get a list of the files in the FTP directory\n",
    "files = ftp.nlst()\n",
    "files = files[2:]\n",
    "print(files)\n",
    "\n",
    "#Change to the destination directory on own computer where you want to save the files\n",
    "os.chdir(destdir)\n",
    "\n",
    "#Download all the files within the FTP directory\n",
    "for file in files:\n",
    "    print('Downloading...' + file)\n",
    "    ftp.retrbinary('RETR ' + file, open(file, 'wb').write)\n",
    "\n",
    "#Close the FTP connection\n",
    "ftp.quit()"
   ]
  },
  {
   "cell_type": "markdown",
   "metadata": {},
   "source": [
    "#### loading the monthly data\n",
    "\n",
    "the data must be copied from the ftp-server. you can find the link in the userguide/page 18: https://nsidc.org/sites/default/files/g02135-v003-userguide_1_1.pdf"
   ]
  },
  {
   "cell_type": "markdown",
   "metadata": {},
   "source": [
    "#### loading the Masie-data\n",
    "the data must be copied from the ftp-server. you can find the link in the userguide/page 18: https://nsidc.org/sites/default/files/g02186-v001-userguide_1_0.pdf\n",
    "(after loading you have to delete the first row in the csv-file and save it)"
   ]
  }
 ],
 "metadata": {
  "kernelspec": {
   "display_name": "Python 3.9.4 ('.venv': venv)",
   "language": "python",
   "name": "python3"
  },
  "language_info": {
   "codemirror_mode": {
    "name": "ipython",
    "version": 3
   },
   "file_extension": ".py",
   "mimetype": "text/x-python",
   "name": "python",
   "nbconvert_exporter": "python",
   "pygments_lexer": "ipython3",
   "version": "3.9.4"
  },
  "orig_nbformat": 4,
  "vscode": {
   "interpreter": {
    "hash": "d31f1e66f02baeaed94f89f28260b3b8e0bda885748b9afcb2db5a9668391dcc"
   }
  }
 },
 "nbformat": 4,
 "nbformat_minor": 2
}
