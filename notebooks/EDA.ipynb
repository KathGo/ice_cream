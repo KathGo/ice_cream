{
 "cells": [
  {
   "cell_type": "markdown",
   "metadata": {},
   "source": [
    "# SeaIce-Prediction"
   ]
  },
  {
   "cell_type": "markdown",
   "metadata": {},
   "source": [
    "### how does the extantion of seaice influence the climate?  \n",
    "- discription of topic and goal of the project  \n",
    "- for what/whom is it important to know?"
   ]
  },
  {
   "cell_type": "code",
   "execution_count": 1,
   "metadata": {},
   "outputs": [],
   "source": [
    "#import of the neccessary libraries\n",
    "\n",
    "import pandas as pd\n",
    "import numpy as np\n",
    "import matplotlib.pyplot as plt\n",
    "from ftplib import FTP\n",
    "import os"
   ]
  },
  {
   "cell_type": "code",
   "execution_count": 2,
   "metadata": {},
   "outputs": [
    {
     "name": "stdout",
     "output_type": "stream",
     "text": [
      "Logging in\n",
      "Changing to /DATASETS/NOAA/G02135/north/daily/data\n",
      "['N_seaice_extent_climatology_1981-2010_v3.0.csv', 'N_seaice_extent_daily_v3.0.csv', 'N_seaice_extent_daily_v3.0.csv.bak']\n",
      "Downloading...N_seaice_extent_climatology_1981-2010_v3.0.csv\n",
      "Downloading...N_seaice_extent_daily_v3.0.csv\n",
      "Downloading...N_seaice_extent_daily_v3.0.csv.bak\n"
     ]
    },
    {
     "data": {
      "text/plain": [
       "'221-Goodbye. You uploaded 0 and downloaded 3844 kbytes.\\n221 Logout.'"
      ]
     },
     "execution_count": 2,
     "metadata": {},
     "output_type": "execute_result"
    }
   ],
   "source": [
    "#code from https://nsidc.org/support/64231694-FTP-Client-Data-Access\n",
    "#!/usr/bin/env python\n",
    "# NSIDC\n",
    "# Sample script to download all the files within one directory on the FTP server\n",
    "#\n",
    "# Requires Python3 and the ftplib and os libraries\n",
    "\n",
    "### The following 3 variables can be changed ###\n",
    "# 1. Set the directory you would like to download the files to\n",
    "destdir='../data'\n",
    "\n",
    "# 2. Set the path to the FTP directory that contains the data you wish to download.\n",
    "# This example is for the daily northern hemisphere data from the Sea Ice Index\n",
    "# https://nsidc.org/data/g02135\n",
    "directory = '/DATASETS/NOAA/G02135/north/daily/data'\n",
    "\n",
    "# 3. Set the password which will be your email address\n",
    "password = 'kaddygorrissen@gmail.com'\n",
    "\n",
    "############################################\n",
    "### Don't need to change this code below ###\n",
    "############################################\n",
    "# FTP server\n",
    "ftpdir = 'sidads.colorado.edu'\n",
    "\n",
    "#Connect and log in to the FTP\n",
    "print('Logging in')\n",
    "ftp = FTP(ftpdir)\n",
    "ftp.login('anonymous',password)\n",
    "\n",
    "# Change to the directory where the files are on the FTP\n",
    "print('Changing to '+ directory)\n",
    "ftp.cwd(directory)\n",
    "\n",
    "# Get a list of the files in the FTP directory\n",
    "files = ftp.nlst()\n",
    "files = files[2:]\n",
    "print(files)\n",
    "\n",
    "#Change to the destination directory on own computer where you want to save the files\n",
    "os.chdir(destdir)\n",
    "\n",
    "#Download all the files within the FTP directory\n",
    "for file in files:\n",
    "    print('Downloading...' + file)\n",
    "    ftp.retrbinary('RETR ' + file, open(file, 'wb').write)\n",
    "\n",
    "#Close the FTP connection\n",
    "ftp.quit()"
   ]
  },
  {
   "cell_type": "code",
   "execution_count": 3,
   "metadata": {},
   "outputs": [
    {
     "data": {
      "text/html": [
       "<div>\n",
       "<style scoped>\n",
       "    .dataframe tbody tr th:only-of-type {\n",
       "        vertical-align: middle;\n",
       "    }\n",
       "\n",
       "    .dataframe tbody tr th {\n",
       "        vertical-align: top;\n",
       "    }\n",
       "\n",
       "    .dataframe thead th {\n",
       "        text-align: right;\n",
       "    }\n",
       "</style>\n",
       "<table border=\"1\" class=\"dataframe\">\n",
       "  <thead>\n",
       "    <tr style=\"text-align: right;\">\n",
       "      <th></th>\n",
       "      <th>Year</th>\n",
       "      <th>Month</th>\n",
       "      <th>Day</th>\n",
       "      <th>Extent</th>\n",
       "      <th>Missing</th>\n",
       "      <th>Source Data</th>\n",
       "    </tr>\n",
       "  </thead>\n",
       "  <tbody>\n",
       "    <tr>\n",
       "      <th>0</th>\n",
       "      <td>YYYY</td>\n",
       "      <td>MM</td>\n",
       "      <td>DD</td>\n",
       "      <td>10^6 sq km</td>\n",
       "      <td>10^6 sq km</td>\n",
       "      <td>Source data product web sites: http://nsidc.o...</td>\n",
       "    </tr>\n",
       "    <tr>\n",
       "      <th>1</th>\n",
       "      <td>1978</td>\n",
       "      <td>10</td>\n",
       "      <td>26</td>\n",
       "      <td>10.231</td>\n",
       "      <td>0.000</td>\n",
       "      <td>['/ecs/DP1/PM/NSIDC-0051.001/1978.10.26/nt_19...</td>\n",
       "    </tr>\n",
       "    <tr>\n",
       "      <th>2</th>\n",
       "      <td>1978</td>\n",
       "      <td>10</td>\n",
       "      <td>28</td>\n",
       "      <td>10.420</td>\n",
       "      <td>0.000</td>\n",
       "      <td>['/ecs/DP1/PM/NSIDC-0051.001/1978.10.28/nt_19...</td>\n",
       "    </tr>\n",
       "    <tr>\n",
       "      <th>3</th>\n",
       "      <td>1978</td>\n",
       "      <td>10</td>\n",
       "      <td>30</td>\n",
       "      <td>10.557</td>\n",
       "      <td>0.000</td>\n",
       "      <td>['/ecs/DP1/PM/NSIDC-0051.001/1978.10.30/nt_19...</td>\n",
       "    </tr>\n",
       "    <tr>\n",
       "      <th>4</th>\n",
       "      <td>1978</td>\n",
       "      <td>11</td>\n",
       "      <td>01</td>\n",
       "      <td>10.670</td>\n",
       "      <td>0.000</td>\n",
       "      <td>['/ecs/DP1/PM/NSIDC-0051.001/1978.11.01/nt_19...</td>\n",
       "    </tr>\n",
       "  </tbody>\n",
       "</table>\n",
       "</div>"
      ],
      "text/plain": [
       "   Year   Month   Day       Extent      Missing  \\\n",
       "0  YYYY      MM    DD   10^6 sq km   10^6 sq km   \n",
       "1  1978      10    26       10.231        0.000   \n",
       "2  1978      10    28       10.420        0.000   \n",
       "3  1978      10    30       10.557        0.000   \n",
       "4  1978      11    01       10.670        0.000   \n",
       "\n",
       "                                         Source Data  \n",
       "0   Source data product web sites: http://nsidc.o...  \n",
       "1   ['/ecs/DP1/PM/NSIDC-0051.001/1978.10.26/nt_19...  \n",
       "2   ['/ecs/DP1/PM/NSIDC-0051.001/1978.10.28/nt_19...  \n",
       "3   ['/ecs/DP1/PM/NSIDC-0051.001/1978.10.30/nt_19...  \n",
       "4   ['/ecs/DP1/PM/NSIDC-0051.001/1978.11.01/nt_19...  "
      ]
     },
     "execution_count": 3,
     "metadata": {},
     "output_type": "execute_result"
    }
   ],
   "source": [
    "df_n = pd.read_csv('../data/N_seaice_extent_daily_v3.0.csv')\n",
    "df_n.head()"
   ]
  },
  {
   "cell_type": "code",
   "execution_count": 4,
   "metadata": {},
   "outputs": [
    {
     "name": "stdout",
     "output_type": "stream",
     "text": [
      "Logging in\n",
      "Changing to /DATASETS/NOAA/G02135/south/daily/data\n",
      "['S_seaice_extent_climatology_1981-2010_v3.0.csv', 'S_seaice_extent_daily_v3.0.csv', 'S_seaice_extent_daily_v3.0.csv.bak']\n",
      "Downloading...S_seaice_extent_climatology_1981-2010_v3.0.csv\n",
      "Downloading...S_seaice_extent_daily_v3.0.csv\n",
      "Downloading...S_seaice_extent_daily_v3.0.csv.bak\n"
     ]
    },
    {
     "data": {
      "text/plain": [
       "'221-Goodbye. You uploaded 0 and downloaded 3848 kbytes.\\n221 Logout.'"
      ]
     },
     "execution_count": 4,
     "metadata": {},
     "output_type": "execute_result"
    }
   ],
   "source": [
    "#the same for the southern hemisphere\n",
    "# 1. Set the directory you would like to download the files to\n",
    "destdir='../data'\n",
    "\n",
    "# 2. Set the path to the FTP directory that contains the data you wish to download.\n",
    "# This example is for the daily southern hemisphere data from the Sea Ice Index\n",
    "# https://nsidc.org/data/g02135\n",
    "directory = '/DATASETS/NOAA/G02135/south/daily/data'\n",
    "\n",
    "# 3. Set the password which will be your email address\n",
    "password = 'kaddygorrissen@gmail.com'\n",
    "\n",
    "############################################\n",
    "### Don't need to change this code below ###\n",
    "############################################\n",
    "# FTP server\n",
    "ftpdir = 'sidads.colorado.edu'\n",
    "\n",
    "#Connect and log in to the FTP\n",
    "print('Logging in')\n",
    "ftp = FTP(ftpdir)\n",
    "ftp.login('anonymous',password)\n",
    "\n",
    "# Change to the directory where the files are on the FTP\n",
    "print('Changing to '+ directory)\n",
    "ftp.cwd(directory)\n",
    "\n",
    "# Get a list of the files in the FTP directory\n",
    "files = ftp.nlst()\n",
    "files = files[2:]\n",
    "print(files)\n",
    "\n",
    "#Change to the destination directory on own computer where you want to save the files\n",
    "os.chdir(destdir)\n",
    "\n",
    "#Download all the files within the FTP directory\n",
    "for file in files:\n",
    "    print('Downloading...' + file)\n",
    "    ftp.retrbinary('RETR ' + file, open(file, 'wb').write)\n",
    "\n",
    "#Close the FTP connection\n",
    "ftp.quit()"
   ]
  },
  {
   "cell_type": "code",
   "execution_count": 5,
   "metadata": {},
   "outputs": [
    {
     "data": {
      "text/html": [
       "<div>\n",
       "<style scoped>\n",
       "    .dataframe tbody tr th:only-of-type {\n",
       "        vertical-align: middle;\n",
       "    }\n",
       "\n",
       "    .dataframe tbody tr th {\n",
       "        vertical-align: top;\n",
       "    }\n",
       "\n",
       "    .dataframe thead th {\n",
       "        text-align: right;\n",
       "    }\n",
       "</style>\n",
       "<table border=\"1\" class=\"dataframe\">\n",
       "  <thead>\n",
       "    <tr style=\"text-align: right;\">\n",
       "      <th></th>\n",
       "      <th>Year</th>\n",
       "      <th>Month</th>\n",
       "      <th>Day</th>\n",
       "      <th>Extent</th>\n",
       "      <th>Missing</th>\n",
       "      <th>Source Data</th>\n",
       "    </tr>\n",
       "  </thead>\n",
       "  <tbody>\n",
       "    <tr>\n",
       "      <th>0</th>\n",
       "      <td>YYYY</td>\n",
       "      <td>MM</td>\n",
       "      <td>DD</td>\n",
       "      <td>10^6 sq km</td>\n",
       "      <td>10^6 sq km</td>\n",
       "      <td>Source data product web sites: http://nsidc.o...</td>\n",
       "    </tr>\n",
       "    <tr>\n",
       "      <th>1</th>\n",
       "      <td>1978</td>\n",
       "      <td>10</td>\n",
       "      <td>26</td>\n",
       "      <td>17.624</td>\n",
       "      <td>0.000</td>\n",
       "      <td>['/ecs/DP1/PM/NSIDC-0051.001/1978.10.26/nt_19...</td>\n",
       "    </tr>\n",
       "    <tr>\n",
       "      <th>2</th>\n",
       "      <td>1978</td>\n",
       "      <td>10</td>\n",
       "      <td>28</td>\n",
       "      <td>17.803</td>\n",
       "      <td>0.000</td>\n",
       "      <td>['/ecs/DP1/PM/NSIDC-0051.001/1978.10.28/nt_19...</td>\n",
       "    </tr>\n",
       "    <tr>\n",
       "      <th>3</th>\n",
       "      <td>1978</td>\n",
       "      <td>10</td>\n",
       "      <td>30</td>\n",
       "      <td>17.670</td>\n",
       "      <td>0.000</td>\n",
       "      <td>['/ecs/DP1/PM/NSIDC-0051.001/1978.10.30/nt_19...</td>\n",
       "    </tr>\n",
       "    <tr>\n",
       "      <th>4</th>\n",
       "      <td>1978</td>\n",
       "      <td>11</td>\n",
       "      <td>01</td>\n",
       "      <td>17.527</td>\n",
       "      <td>0.000</td>\n",
       "      <td>['/ecs/DP1/PM/NSIDC-0051.001/1978.11.01/nt_19...</td>\n",
       "    </tr>\n",
       "  </tbody>\n",
       "</table>\n",
       "</div>"
      ],
      "text/plain": [
       "   Year   Month   Day       Extent      Missing  \\\n",
       "0  YYYY      MM    DD   10^6 sq km   10^6 sq km   \n",
       "1  1978      10    26       17.624        0.000   \n",
       "2  1978      10    28       17.803        0.000   \n",
       "3  1978      10    30       17.670        0.000   \n",
       "4  1978      11    01       17.527        0.000   \n",
       "\n",
       "                                         Source Data  \n",
       "0   Source data product web sites: http://nsidc.o...  \n",
       "1   ['/ecs/DP1/PM/NSIDC-0051.001/1978.10.26/nt_19...  \n",
       "2   ['/ecs/DP1/PM/NSIDC-0051.001/1978.10.28/nt_19...  \n",
       "3   ['/ecs/DP1/PM/NSIDC-0051.001/1978.10.30/nt_19...  \n",
       "4   ['/ecs/DP1/PM/NSIDC-0051.001/1978.11.01/nt_19...  "
      ]
     },
     "execution_count": 5,
     "metadata": {},
     "output_type": "execute_result"
    }
   ],
   "source": [
    "df_s = pd.read_csv('../data/S_seaice_extent_daily_v3.0.csv')\n",
    "df_s.head()"
   ]
  }
 ],
 "metadata": {
  "interpreter": {
   "hash": "82334ae81a3aa9d913885365ae16165ce420808749027d73a7176c0ee34418ad"
  },
  "kernelspec": {
   "display_name": "Python 3.9.4 ('.venv': venv)",
   "language": "python",
   "name": "python3"
  },
  "language_info": {
   "codemirror_mode": {
    "name": "ipython",
    "version": 3
   },
   "file_extension": ".py",
   "mimetype": "text/x-python",
   "name": "python",
   "nbconvert_exporter": "python",
   "pygments_lexer": "ipython3",
   "version": "3.9.4"
  },
  "orig_nbformat": 4
 },
 "nbformat": 4,
 "nbformat_minor": 2
}
