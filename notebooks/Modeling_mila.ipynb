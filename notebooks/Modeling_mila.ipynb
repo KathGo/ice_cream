{
 "cells": [
  {
   "cell_type": "markdown",
   "metadata": {},
   "source": [
    "Define Baseline model\n",
    "\n",
    "The data set will be devided in train - test part. Train till <2017, Test after >=2017\n",
    "\n",
    "Calculate monthly mean for the train period\n",
    "\n",
    "Use the monthly mean as a prediction for y_pred\n",
    "\n",
    "Compare the y_test and y_pred using rmse metric"
   ]
  },
  {
   "cell_type": "code",
   "execution_count": 526,
   "metadata": {},
   "outputs": [],
   "source": [
    "#!pip install requests\n",
    "#!pip install sklearn\n",
    "#!pip install statsmodels\n",
    "#!pip install pmdarima"
   ]
  },
  {
   "cell_type": "code",
   "execution_count": 527,
   "metadata": {},
   "outputs": [],
   "source": [
    "# Importing required libraries\n",
    "import requests\n",
    "import pandas as pd\n",
    "import csv\n",
    "import numpy as np\n",
    "from itertools import permutations\n",
    "import matplotlib.pyplot as plt\n",
    "import seaborn as sns\n",
    "\n",
    "from sklearn.metrics import mean_squared_error\n",
    "from math import sqrt\n",
    "from statsmodels.tsa.stattools import adfuller,kpss\n",
    "from statsmodels.tsa.seasonal import seasonal_decompose\n",
    "from statsmodels.tsa.arima_model import ARIMA\n",
    "from statsmodels.graphics.tsaplots import plot_pacf\n",
    "\n",
    "from pmdarima.arima import auto_arima\n",
    "import statsmodels.graphics.tsaplots as tsaplot\n",
    "from statsmodels.tsa.holtwinters import Holt, ExponentialSmoothing, SimpleExpSmoothing\n",
    "\n",
    "import warnings\n",
    "warnings.filterwarnings('ignore')\n",
    "plt.rcParams.update({'figure.facecolor':'white'})"
   ]
  },
  {
   "cell_type": "code",
   "execution_count": 528,
   "metadata": {},
   "outputs": [
    {
     "data": {
      "text/html": [
       "<div>\n",
       "<style scoped>\n",
       "    .dataframe tbody tr th:only-of-type {\n",
       "        vertical-align: middle;\n",
       "    }\n",
       "\n",
       "    .dataframe tbody tr th {\n",
       "        vertical-align: top;\n",
       "    }\n",
       "\n",
       "    .dataframe thead th {\n",
       "        text-align: right;\n",
       "    }\n",
       "</style>\n",
       "<table border=\"1\" class=\"dataframe\">\n",
       "  <thead>\n",
       "    <tr style=\"text-align: right;\">\n",
       "      <th></th>\n",
       "      <th>year_x</th>\n",
       "      <th>month_x</th>\n",
       "      <th>day_x</th>\n",
       "      <th>extent</th>\n",
       "      <th>missing</th>\n",
       "      <th>Source Data</th>\n",
       "      <th>datetime</th>\n",
       "      <th>Northern_Hemisphere</th>\n",
       "      <th>Beaufort_Sea</th>\n",
       "      <th>Chukchi_Sea</th>\n",
       "      <th>...</th>\n",
       "      <th>Sea_of_Okhotsk</th>\n",
       "      <th>Yellow_Sea</th>\n",
       "      <th>Cook_Inlet</th>\n",
       "      <th>date</th>\n",
       "      <th>day_y</th>\n",
       "      <th>month_y</th>\n",
       "      <th>year_y</th>\n",
       "      <th>timestamp</th>\n",
       "      <th>dayofyear</th>\n",
       "      <th>hour</th>\n",
       "    </tr>\n",
       "  </thead>\n",
       "  <tbody>\n",
       "    <tr>\n",
       "      <th>0</th>\n",
       "      <td>1978</td>\n",
       "      <td>10</td>\n",
       "      <td>26</td>\n",
       "      <td>10.231</td>\n",
       "      <td>0.0</td>\n",
       "      <td>['/ecs/DP1/PM/NSIDC-0051.001/1978.10.26/nt_19...</td>\n",
       "      <td>1978-10-26</td>\n",
       "      <td>NaN</td>\n",
       "      <td>NaN</td>\n",
       "      <td>NaN</td>\n",
       "      <td>...</td>\n",
       "      <td>NaN</td>\n",
       "      <td>NaN</td>\n",
       "      <td>NaN</td>\n",
       "      <td>NaN</td>\n",
       "      <td>NaN</td>\n",
       "      <td>NaN</td>\n",
       "      <td>NaN</td>\n",
       "      <td>NaN</td>\n",
       "      <td>NaN</td>\n",
       "      <td>NaN</td>\n",
       "    </tr>\n",
       "    <tr>\n",
       "      <th>1</th>\n",
       "      <td>1978</td>\n",
       "      <td>10</td>\n",
       "      <td>28</td>\n",
       "      <td>10.420</td>\n",
       "      <td>0.0</td>\n",
       "      <td>['/ecs/DP1/PM/NSIDC-0051.001/1978.10.28/nt_19...</td>\n",
       "      <td>1978-10-28</td>\n",
       "      <td>NaN</td>\n",
       "      <td>NaN</td>\n",
       "      <td>NaN</td>\n",
       "      <td>...</td>\n",
       "      <td>NaN</td>\n",
       "      <td>NaN</td>\n",
       "      <td>NaN</td>\n",
       "      <td>NaN</td>\n",
       "      <td>NaN</td>\n",
       "      <td>NaN</td>\n",
       "      <td>NaN</td>\n",
       "      <td>NaN</td>\n",
       "      <td>NaN</td>\n",
       "      <td>NaN</td>\n",
       "    </tr>\n",
       "    <tr>\n",
       "      <th>2</th>\n",
       "      <td>1978</td>\n",
       "      <td>10</td>\n",
       "      <td>30</td>\n",
       "      <td>10.557</td>\n",
       "      <td>0.0</td>\n",
       "      <td>['/ecs/DP1/PM/NSIDC-0051.001/1978.10.30/nt_19...</td>\n",
       "      <td>1978-10-30</td>\n",
       "      <td>NaN</td>\n",
       "      <td>NaN</td>\n",
       "      <td>NaN</td>\n",
       "      <td>...</td>\n",
       "      <td>NaN</td>\n",
       "      <td>NaN</td>\n",
       "      <td>NaN</td>\n",
       "      <td>NaN</td>\n",
       "      <td>NaN</td>\n",
       "      <td>NaN</td>\n",
       "      <td>NaN</td>\n",
       "      <td>NaN</td>\n",
       "      <td>NaN</td>\n",
       "      <td>NaN</td>\n",
       "    </tr>\n",
       "    <tr>\n",
       "      <th>3</th>\n",
       "      <td>1978</td>\n",
       "      <td>11</td>\n",
       "      <td>1</td>\n",
       "      <td>10.670</td>\n",
       "      <td>0.0</td>\n",
       "      <td>['/ecs/DP1/PM/NSIDC-0051.001/1978.11.01/nt_19...</td>\n",
       "      <td>1978-11-01</td>\n",
       "      <td>NaN</td>\n",
       "      <td>NaN</td>\n",
       "      <td>NaN</td>\n",
       "      <td>...</td>\n",
       "      <td>NaN</td>\n",
       "      <td>NaN</td>\n",
       "      <td>NaN</td>\n",
       "      <td>NaN</td>\n",
       "      <td>NaN</td>\n",
       "      <td>NaN</td>\n",
       "      <td>NaN</td>\n",
       "      <td>NaN</td>\n",
       "      <td>NaN</td>\n",
       "      <td>NaN</td>\n",
       "    </tr>\n",
       "    <tr>\n",
       "      <th>4</th>\n",
       "      <td>1978</td>\n",
       "      <td>11</td>\n",
       "      <td>3</td>\n",
       "      <td>10.777</td>\n",
       "      <td>0.0</td>\n",
       "      <td>['/ecs/DP1/PM/NSIDC-0051.001/1978.11.03/nt_19...</td>\n",
       "      <td>1978-11-03</td>\n",
       "      <td>NaN</td>\n",
       "      <td>NaN</td>\n",
       "      <td>NaN</td>\n",
       "      <td>...</td>\n",
       "      <td>NaN</td>\n",
       "      <td>NaN</td>\n",
       "      <td>NaN</td>\n",
       "      <td>NaN</td>\n",
       "      <td>NaN</td>\n",
       "      <td>NaN</td>\n",
       "      <td>NaN</td>\n",
       "      <td>NaN</td>\n",
       "      <td>NaN</td>\n",
       "      <td>NaN</td>\n",
       "    </tr>\n",
       "  </tbody>\n",
       "</table>\n",
       "<p>5 rows × 31 columns</p>\n",
       "</div>"
      ],
      "text/plain": [
       "   year_x  month_x  day_x  extent  missing  \\\n",
       "0    1978       10     26  10.231      0.0   \n",
       "1    1978       10     28  10.420      0.0   \n",
       "2    1978       10     30  10.557      0.0   \n",
       "3    1978       11      1  10.670      0.0   \n",
       "4    1978       11      3  10.777      0.0   \n",
       "\n",
       "                                         Source Data    datetime  \\\n",
       "0   ['/ecs/DP1/PM/NSIDC-0051.001/1978.10.26/nt_19...  1978-10-26   \n",
       "1   ['/ecs/DP1/PM/NSIDC-0051.001/1978.10.28/nt_19...  1978-10-28   \n",
       "2   ['/ecs/DP1/PM/NSIDC-0051.001/1978.10.30/nt_19...  1978-10-30   \n",
       "3   ['/ecs/DP1/PM/NSIDC-0051.001/1978.11.01/nt_19...  1978-11-01   \n",
       "4   ['/ecs/DP1/PM/NSIDC-0051.001/1978.11.03/nt_19...  1978-11-03   \n",
       "\n",
       "   Northern_Hemisphere  Beaufort_Sea   Chukchi_Sea  ...  Sea_of_Okhotsk  \\\n",
       "0                  NaN           NaN           NaN  ...             NaN   \n",
       "1                  NaN           NaN           NaN  ...             NaN   \n",
       "2                  NaN           NaN           NaN  ...             NaN   \n",
       "3                  NaN           NaN           NaN  ...             NaN   \n",
       "4                  NaN           NaN           NaN  ...             NaN   \n",
       "\n",
       "   Yellow_Sea  Cook_Inlet  date  day_y  month_y  year_y  timestamp  dayofyear  \\\n",
       "0         NaN         NaN   NaN    NaN      NaN     NaN        NaN        NaN   \n",
       "1         NaN         NaN   NaN    NaN      NaN     NaN        NaN        NaN   \n",
       "2         NaN         NaN   NaN    NaN      NaN     NaN        NaN        NaN   \n",
       "3         NaN         NaN   NaN    NaN      NaN     NaN        NaN        NaN   \n",
       "4         NaN         NaN   NaN    NaN      NaN     NaN        NaN        NaN   \n",
       "\n",
       "   hour  \n",
       "0   NaN  \n",
       "1   NaN  \n",
       "2   NaN  \n",
       "3   NaN  \n",
       "4   NaN  \n",
       "\n",
       "[5 rows x 31 columns]"
      ]
     },
     "execution_count": 528,
     "metadata": {},
     "output_type": "execute_result"
    }
   ],
   "source": [
    "df = pd.read_csv('../Northern.csv',sep=\",\")\n",
    "df.head()"
   ]
  },
  {
   "cell_type": "code",
   "execution_count": 529,
   "metadata": {},
   "outputs": [],
   "source": [
    "# Split data into train and test set\n",
    "df_base = df['extent']\n",
    "train_test_split_ratio = int(len(df_base)*0.8668)\n",
    "train_data, test_data = df_base[:train_test_split_ratio], df_base[train_test_split_ratio:]\n"
   ]
  },
  {
   "cell_type": "code",
   "execution_count": 530,
   "metadata": {},
   "outputs": [],
   "source": [
    "df_base2 = df['datetime']\n",
    "train_data_x, test_data_x = df_base2[:train_test_split_ratio], df_base2[train_test_split_ratio:]"
   ]
  },
  {
   "cell_type": "code",
   "execution_count": 531,
   "metadata": {},
   "outputs": [
    {
     "data": {
      "text/plain": [
       "0        1978-10-26\n",
       "1        1978-10-28\n",
       "2        1978-10-30\n",
       "3        1978-11-01\n",
       "4        1978-11-03\n",
       "            ...    \n",
       "12291    2016-12-27\n",
       "12292    2016-12-28\n",
       "12293    2016-12-29\n",
       "12294    2016-12-30\n",
       "12295    2016-12-31\n",
       "Name: datetime, Length: 12296, dtype: object"
      ]
     },
     "execution_count": 531,
     "metadata": {},
     "output_type": "execute_result"
    }
   ],
   "source": [
    "train_data_x"
   ]
  },
  {
   "cell_type": "code",
   "execution_count": 532,
   "metadata": {},
   "outputs": [
    {
     "data": {
      "text/plain": [
       "12296    2017-01-01\n",
       "12297    2017-01-02\n",
       "12298    2017-01-03\n",
       "12299    2017-01-04\n",
       "12300    2017-01-05\n",
       "            ...    \n",
       "14181    2022-03-03\n",
       "14182    2022-03-04\n",
       "14183    2022-03-05\n",
       "14184    2022-03-06\n",
       "14185    2022-03-07\n",
       "Name: datetime, Length: 1890, dtype: object"
      ]
     },
     "execution_count": 532,
     "metadata": {},
     "output_type": "execute_result"
    }
   ],
   "source": [
    "test_data_x"
   ]
  },
  {
   "cell_type": "code",
   "execution_count": 533,
   "metadata": {},
   "outputs": [
    {
     "data": {
      "image/png": "[encoded data removed]",
      "text/plain": [
       "<Figure size 720x432 with 1 Axes>"
      ]
     },
     "metadata": {},
     "output_type": "display_data"
    }
   ],
   "source": [
    "# Plotting the train and test set\n",
    "plt.figure(figsize=(10,6))\n",
    "plt.xlabel('Year')\n",
    "plt.ylabel('Closing Price')\n",
    "plt.xticks([])\n",
    "plt.plot(train_data, 'red', label='Train data')\n",
    "plt.plot(test_data, 'black', label='Test data')\n",
    "plt.legend();\n"
   ]
  },
  {
   "cell_type": "code",
   "execution_count": 534,
   "metadata": {},
   "outputs": [
    {
     "data": {
      "text/plain": [
       "12296    2017-01-01\n",
       "12297    2017-01-02\n",
       "12298    2017-01-03\n",
       "12299    2017-01-04\n",
       "12300    2017-01-05\n",
       "            ...    \n",
       "14181    2022-03-03\n",
       "14182    2022-03-04\n",
       "14183    2022-03-05\n",
       "14184    2022-03-06\n",
       "14185    2022-03-07\n",
       "Name: datetime, Length: 1890, dtype: object"
      ]
     },
     "execution_count": 534,
     "metadata": {},
     "output_type": "execute_result"
    }
   ],
   "source": [
    "test_data_x"
   ]
  },
  {
   "cell_type": "code",
   "execution_count": 535,
   "metadata": {},
   "outputs": [
    {
     "name": "stdout",
     "output_type": "stream",
     "text": [
      "<class 'pandas.core.frame.DataFrame'>\n",
      "RangeIndex: 12296 entries, 0 to 12295\n",
      "Data columns (total 2 columns):\n",
      " #   Column   Non-Null Count  Dtype  \n",
      "---  ------   --------------  -----  \n",
      " 0   extent   12296 non-null  float64\n",
      " 1   daytime  12296 non-null  object \n",
      "dtypes: float64(1), object(1)\n",
      "memory usage: 192.2+ KB\n"
     ]
    }
   ],
   "source": [
    "df_train = pd.DataFrame({\"extent\":train_data,\"daytime\":train_data_x})\n",
    "df_test = pd.DataFrame({\"extent\":test_data,\"daytime\":test_data_x})\n",
    "df_train.info()"
   ]
  },
  {
   "cell_type": "code",
   "execution_count": 536,
   "metadata": {},
   "outputs": [
    {
     "data": {
      "text/plain": [
       "count    12296.000000\n",
       "mean         6.549203\n",
       "std          3.447866\n",
       "min          1.000000\n",
       "25%          4.000000\n",
       "50%          7.000000\n",
       "75%         10.000000\n",
       "max         12.000000\n",
       "Name: month, dtype: float64"
      ]
     },
     "execution_count": 536,
     "metadata": {},
     "output_type": "execute_result"
    }
   ],
   "source": [
    "df_train['datetime'] = pd.to_datetime(df_train['daytime'], format='%Y-%m-%d')\n",
    "# Convert timestamp to datetime object\n",
    "df_train = df_train.assign(\n",
    "    timestamp = lambda x: pd.to_datetime(x['datetime']), \n",
    "    date = lambda x: x['timestamp'].dt.date,\n",
    "    year = lambda x: x['timestamp'].dt.year,\n",
    "    month = lambda x: x['timestamp'].dt.month,\n",
    "    day = lambda x: x['timestamp'].dt.day\n",
    ")\n",
    "df_train.month.describe()"
   ]
  },
  {
   "cell_type": "code",
   "execution_count": 537,
   "metadata": {},
   "outputs": [],
   "source": [
    "extent_predict=df_train.groupby('month')['extent'].mean()"
   ]
  },
  {
   "cell_type": "code",
   "execution_count": 538,
   "metadata": {},
   "outputs": [
    {
     "data": {
      "text/plain": [
       "month\n",
       "1     14.258358\n",
       "2     15.123452\n",
       "3     15.279789\n",
       "4     14.556564\n",
       "5     13.138302\n",
       "6     11.563613\n",
       "7      9.150343\n",
       "8      6.857885\n",
       "9      6.060819\n",
       "10     8.018187\n",
       "11    10.494459\n",
       "12    12.688589\n",
       "Name: extent, dtype: float64"
      ]
     },
     "execution_count": 538,
     "metadata": {},
     "output_type": "execute_result"
    }
   ],
   "source": [
    "extent_predict"
   ]
  },
  {
   "cell_type": "code",
   "execution_count": 539,
   "metadata": {},
   "outputs": [],
   "source": [
    "df_test['datetime'] = pd.to_datetime(df_test['daytime'], format='%Y-%m-%d')\n",
    "# Convert timestamp to datetime object\n",
    "df_test = df_test.assign(\n",
    "    timestamp = lambda x: pd.to_datetime(x['datetime']), \n",
    "    year = lambda x: x['timestamp'].dt.year,\n",
    "    month = lambda x: x['timestamp'].dt.month,\n",
    "    day = lambda x: x['timestamp'].dt.day\n",
    ")\n",
    "df_test.to_csv('Test.csv', encoding='utf-8', index=False)"
   ]
  },
  {
   "cell_type": "code",
   "execution_count": 540,
   "metadata": {},
   "outputs": [],
   "source": [
    "df_observ_x =df_test['extent']\n",
    "df_observ_time=df_test['timestamp']\n"
   ]
  },
  {
   "cell_type": "code",
   "execution_count": 541,
   "metadata": {},
   "outputs": [],
   "source": [
    "#data_month = df_train.resample('M', on='month').mean()\n",
    "#df_pred =[df_test['datetime'],df_test['year'],df_test['month'], df_test['day'],df_test['extent']]\n",
    "for months in range(1,13):\n",
    "    for ind in range(12296,12296+len(df_test['month'])):\n",
    "        if df_test['month'][ind]==months:\n",
    "           # print(ind, df_test['extent'][ind],extent_predict[months])\n",
    "           #df_test['extent'][i] = extent_predict[months]\n",
    "           #print(df_test['extent'][i], extent_predict[months])\n",
    "            df_test['extent'][ind] = extent_predict[months]\n",
    "           \n",
    "\n"
   ]
  },
  {
   "cell_type": "code",
   "execution_count": 542,
   "metadata": {},
   "outputs": [],
   "source": [
    "#df_pred.tail(50)#"
   ]
  },
  {
   "cell_type": "code",
   "execution_count": 543,
   "metadata": {},
   "outputs": [
    {
     "data": {
      "text/plain": [
       "month\n",
       "1     14.258358\n",
       "2     15.123452\n",
       "3     15.279789\n",
       "4     14.556564\n",
       "5     13.138302\n",
       "6     11.563613\n",
       "7      9.150343\n",
       "8      6.857885\n",
       "9      6.060819\n",
       "10     8.018187\n",
       "11    10.494459\n",
       "12    12.688589\n",
       "Name: extent, dtype: float64"
      ]
     },
     "execution_count": 543,
     "metadata": {},
     "output_type": "execute_result"
    }
   ],
   "source": [
    "extent_predict"
   ]
  },
  {
   "cell_type": "code",
   "execution_count": 544,
   "metadata": {},
   "outputs": [
    {
     "data": {
      "text/html": [
       "<div>\n",
       "<style scoped>\n",
       "    .dataframe tbody tr th:only-of-type {\n",
       "        vertical-align: middle;\n",
       "    }\n",
       "\n",
       "    .dataframe tbody tr th {\n",
       "        vertical-align: top;\n",
       "    }\n",
       "\n",
       "    .dataframe thead th {\n",
       "        text-align: right;\n",
       "    }\n",
       "</style>\n",
       "<table border=\"1\" class=\"dataframe\">\n",
       "  <thead>\n",
       "    <tr style=\"text-align: right;\">\n",
       "      <th></th>\n",
       "      <th>extent</th>\n",
       "      <th>daytime</th>\n",
       "      <th>datetime</th>\n",
       "      <th>timestamp</th>\n",
       "      <th>year</th>\n",
       "      <th>month</th>\n",
       "      <th>day</th>\n",
       "    </tr>\n",
       "  </thead>\n",
       "  <tbody>\n",
       "    <tr>\n",
       "      <th>12296</th>\n",
       "      <td>14.258358</td>\n",
       "      <td>2017-01-01</td>\n",
       "      <td>2017-01-01</td>\n",
       "      <td>2017-01-01</td>\n",
       "      <td>2017</td>\n",
       "      <td>1</td>\n",
       "      <td>1</td>\n",
       "    </tr>\n",
       "    <tr>\n",
       "      <th>12297</th>\n",
       "      <td>14.258358</td>\n",
       "      <td>2017-01-02</td>\n",
       "      <td>2017-01-02</td>\n",
       "      <td>2017-01-02</td>\n",
       "      <td>2017</td>\n",
       "      <td>1</td>\n",
       "      <td>2</td>\n",
       "    </tr>\n",
       "    <tr>\n",
       "      <th>12298</th>\n",
       "      <td>14.258358</td>\n",
       "      <td>2017-01-03</td>\n",
       "      <td>2017-01-03</td>\n",
       "      <td>2017-01-03</td>\n",
       "      <td>2017</td>\n",
       "      <td>1</td>\n",
       "      <td>3</td>\n",
       "    </tr>\n",
       "    <tr>\n",
       "      <th>12299</th>\n",
       "      <td>14.258358</td>\n",
       "      <td>2017-01-04</td>\n",
       "      <td>2017-01-04</td>\n",
       "      <td>2017-01-04</td>\n",
       "      <td>2017</td>\n",
       "      <td>1</td>\n",
       "      <td>4</td>\n",
       "    </tr>\n",
       "    <tr>\n",
       "      <th>12300</th>\n",
       "      <td>14.258358</td>\n",
       "      <td>2017-01-05</td>\n",
       "      <td>2017-01-05</td>\n",
       "      <td>2017-01-05</td>\n",
       "      <td>2017</td>\n",
       "      <td>1</td>\n",
       "      <td>5</td>\n",
       "    </tr>\n",
       "    <tr>\n",
       "      <th>...</th>\n",
       "      <td>...</td>\n",
       "      <td>...</td>\n",
       "      <td>...</td>\n",
       "      <td>...</td>\n",
       "      <td>...</td>\n",
       "      <td>...</td>\n",
       "      <td>...</td>\n",
       "    </tr>\n",
       "    <tr>\n",
       "      <th>14181</th>\n",
       "      <td>15.279789</td>\n",
       "      <td>2022-03-03</td>\n",
       "      <td>2022-03-03</td>\n",
       "      <td>2022-03-03</td>\n",
       "      <td>2022</td>\n",
       "      <td>3</td>\n",
       "      <td>3</td>\n",
       "    </tr>\n",
       "    <tr>\n",
       "      <th>14182</th>\n",
       "      <td>15.279789</td>\n",
       "      <td>2022-03-04</td>\n",
       "      <td>2022-03-04</td>\n",
       "      <td>2022-03-04</td>\n",
       "      <td>2022</td>\n",
       "      <td>3</td>\n",
       "      <td>4</td>\n",
       "    </tr>\n",
       "    <tr>\n",
       "      <th>14183</th>\n",
       "      <td>15.279789</td>\n",
       "      <td>2022-03-05</td>\n",
       "      <td>2022-03-05</td>\n",
       "      <td>2022-03-05</td>\n",
       "      <td>2022</td>\n",
       "      <td>3</td>\n",
       "      <td>5</td>\n",
       "    </tr>\n",
       "    <tr>\n",
       "      <th>14184</th>\n",
       "      <td>15.279789</td>\n",
       "      <td>2022-03-06</td>\n",
       "      <td>2022-03-06</td>\n",
       "      <td>2022-03-06</td>\n",
       "      <td>2022</td>\n",
       "      <td>3</td>\n",
       "      <td>6</td>\n",
       "    </tr>\n",
       "    <tr>\n",
       "      <th>14185</th>\n",
       "      <td>15.279789</td>\n",
       "      <td>2022-03-07</td>\n",
       "      <td>2022-03-07</td>\n",
       "      <td>2022-03-07</td>\n",
       "      <td>2022</td>\n",
       "      <td>3</td>\n",
       "      <td>7</td>\n",
       "    </tr>\n",
       "  </tbody>\n",
       "</table>\n",
       "<p>1890 rows × 7 columns</p>\n",
       "</div>"
      ],
      "text/plain": [
       "          extent     daytime   datetime  timestamp  year  month  day\n",
       "12296  14.258358  2017-01-01 2017-01-01 2017-01-01  2017      1    1\n",
       "12297  14.258358  2017-01-02 2017-01-02 2017-01-02  2017      1    2\n",
       "12298  14.258358  2017-01-03 2017-01-03 2017-01-03  2017      1    3\n",
       "12299  14.258358  2017-01-04 2017-01-04 2017-01-04  2017      1    4\n",
       "12300  14.258358  2017-01-05 2017-01-05 2017-01-05  2017      1    5\n",
       "...          ...         ...        ...        ...   ...    ...  ...\n",
       "14181  15.279789  2022-03-03 2022-03-03 2022-03-03  2022      3    3\n",
       "14182  15.279789  2022-03-04 2022-03-04 2022-03-04  2022      3    4\n",
       "14183  15.279789  2022-03-05 2022-03-05 2022-03-05  2022      3    5\n",
       "14184  15.279789  2022-03-06 2022-03-06 2022-03-06  2022      3    6\n",
       "14185  15.279789  2022-03-07 2022-03-07 2022-03-07  2022      3    7\n",
       "\n",
       "[1890 rows x 7 columns]"
      ]
     },
     "execution_count": 544,
     "metadata": {},
     "output_type": "execute_result"
    }
   ],
   "source": [
    "df_test"
   ]
  },
  {
   "cell_type": "code",
   "execution_count": 545,
   "metadata": {},
   "outputs": [
    {
     "data": {
      "text/plain": [
       "12296    14.258358\n",
       "12297    14.258358\n",
       "12298    14.258358\n",
       "12299    14.258358\n",
       "12300    14.258358\n",
       "           ...    \n",
       "14181    15.279789\n",
       "14182    15.279789\n",
       "14183    15.279789\n",
       "14184    15.279789\n",
       "14185    15.279789\n",
       "Name: extent, Length: 1890, dtype: float64"
      ]
     },
     "execution_count": 545,
     "metadata": {},
     "output_type": "execute_result"
    }
   ],
   "source": [
    "df_test['extent']"
   ]
  },
  {
   "cell_type": "code",
   "execution_count": 546,
   "metadata": {},
   "outputs": [],
   "source": [
    "#df_pred['extent']"
   ]
  },
  {
   "cell_type": "code",
   "execution_count": 547,
   "metadata": {},
   "outputs": [
    {
     "data": {
      "text/plain": [
       "<bound method NDFrame.copy of           extent     daytime   datetime  timestamp  year  month  day\n",
       "12296  14.258358  2017-01-01 2017-01-01 2017-01-01  2017      1    1\n",
       "12297  14.258358  2017-01-02 2017-01-02 2017-01-02  2017      1    2\n",
       "12298  14.258358  2017-01-03 2017-01-03 2017-01-03  2017      1    3\n",
       "12299  14.258358  2017-01-04 2017-01-04 2017-01-04  2017      1    4\n",
       "12300  14.258358  2017-01-05 2017-01-05 2017-01-05  2017      1    5\n",
       "...          ...         ...        ...        ...   ...    ...  ...\n",
       "14181  15.279789  2022-03-03 2022-03-03 2022-03-03  2022      3    3\n",
       "14182  15.279789  2022-03-04 2022-03-04 2022-03-04  2022      3    4\n",
       "14183  15.279789  2022-03-05 2022-03-05 2022-03-05  2022      3    5\n",
       "14184  15.279789  2022-03-06 2022-03-06 2022-03-06  2022      3    6\n",
       "14185  15.279789  2022-03-07 2022-03-07 2022-03-07  2022      3    7\n",
       "\n",
       "[1890 rows x 7 columns]>"
      ]
     },
     "execution_count": 547,
     "metadata": {},
     "output_type": "execute_result"
    }
   ],
   "source": [
    "df_test_observ"
   ]
  },
  {
   "cell_type": "code",
   "execution_count": 548,
   "metadata": {},
   "outputs": [
    {
     "data": {
      "text/plain": [
       "12296    14.258358\n",
       "12297    14.258358\n",
       "12298    14.258358\n",
       "12299    14.258358\n",
       "12300    14.258358\n",
       "           ...    \n",
       "14181    15.279789\n",
       "14182    15.279789\n",
       "14183    15.279789\n",
       "14184    15.279789\n",
       "14185    15.279789\n",
       "Name: extent, Length: 1890, dtype: float64"
      ]
     },
     "execution_count": 548,
     "metadata": {},
     "output_type": "execute_result"
    }
   ],
   "source": [
    "df_observ_x"
   ]
  },
  {
   "cell_type": "code",
   "execution_count": 549,
   "metadata": {},
   "outputs": [],
   "source": [
    "#df_pred['extent']"
   ]
  },
  {
   "cell_type": "code",
   "execution_count": 550,
   "metadata": {},
   "outputs": [],
   "source": [
    "df_obs = pd.read_csv('../Test.csv',sep=\",\")"
   ]
  },
  {
   "cell_type": "code",
   "execution_count": 551,
   "metadata": {},
   "outputs": [
    {
     "data": {
      "text/html": [
       "<div>\n",
       "<style scoped>\n",
       "    .dataframe tbody tr th:only-of-type {\n",
       "        vertical-align: middle;\n",
       "    }\n",
       "\n",
       "    .dataframe tbody tr th {\n",
       "        vertical-align: top;\n",
       "    }\n",
       "\n",
       "    .dataframe thead th {\n",
       "        text-align: right;\n",
       "    }\n",
       "</style>\n",
       "<table border=\"1\" class=\"dataframe\">\n",
       "  <thead>\n",
       "    <tr style=\"text-align: right;\">\n",
       "      <th></th>\n",
       "      <th>extent</th>\n",
       "      <th>daytime</th>\n",
       "      <th>datetime</th>\n",
       "      <th>timestamp</th>\n",
       "      <th>year</th>\n",
       "      <th>month</th>\n",
       "      <th>day</th>\n",
       "    </tr>\n",
       "  </thead>\n",
       "  <tbody>\n",
       "    <tr>\n",
       "      <th>0</th>\n",
       "      <td>12.643</td>\n",
       "      <td>2017-01-01</td>\n",
       "      <td>2017-01-01</td>\n",
       "      <td>2017-01-01</td>\n",
       "      <td>2017</td>\n",
       "      <td>1</td>\n",
       "      <td>1</td>\n",
       "    </tr>\n",
       "    <tr>\n",
       "      <th>1</th>\n",
       "      <td>12.644</td>\n",
       "      <td>2017-01-02</td>\n",
       "      <td>2017-01-02</td>\n",
       "      <td>2017-01-02</td>\n",
       "      <td>2017</td>\n",
       "      <td>1</td>\n",
       "      <td>2</td>\n",
       "    </tr>\n",
       "    <tr>\n",
       "      <th>2</th>\n",
       "      <td>12.713</td>\n",
       "      <td>2017-01-03</td>\n",
       "      <td>2017-01-03</td>\n",
       "      <td>2017-01-03</td>\n",
       "      <td>2017</td>\n",
       "      <td>1</td>\n",
       "      <td>3</td>\n",
       "    </tr>\n",
       "    <tr>\n",
       "      <th>3</th>\n",
       "      <td>12.954</td>\n",
       "      <td>2017-01-04</td>\n",
       "      <td>2017-01-04</td>\n",
       "      <td>2017-01-04</td>\n",
       "      <td>2017</td>\n",
       "      <td>1</td>\n",
       "      <td>4</td>\n",
       "    </tr>\n",
       "    <tr>\n",
       "      <th>4</th>\n",
       "      <td>12.956</td>\n",
       "      <td>2017-01-05</td>\n",
       "      <td>2017-01-05</td>\n",
       "      <td>2017-01-05</td>\n",
       "      <td>2017</td>\n",
       "      <td>1</td>\n",
       "      <td>5</td>\n",
       "    </tr>\n",
       "  </tbody>\n",
       "</table>\n",
       "</div>"
      ],
      "text/plain": [
       "   extent     daytime    datetime   timestamp  year  month  day\n",
       "0  12.643  2017-01-01  2017-01-01  2017-01-01  2017      1    1\n",
       "1  12.644  2017-01-02  2017-01-02  2017-01-02  2017      1    2\n",
       "2  12.713  2017-01-03  2017-01-03  2017-01-03  2017      1    3\n",
       "3  12.954  2017-01-04  2017-01-04  2017-01-04  2017      1    4\n",
       "4  12.956  2017-01-05  2017-01-05  2017-01-05  2017      1    5"
      ]
     },
     "execution_count": 551,
     "metadata": {},
     "output_type": "execute_result"
    }
   ],
   "source": [
    "df_obs.head()"
   ]
  },
  {
   "cell_type": "code",
   "execution_count": 552,
   "metadata": {},
   "outputs": [
    {
     "data": {
      "text/plain": [
       "12296    14.258358\n",
       "12297    14.258358\n",
       "12298    14.258358\n",
       "12299    14.258358\n",
       "12300    14.258358\n",
       "           ...    \n",
       "14181    15.279789\n",
       "14182    15.279789\n",
       "14183    15.279789\n",
       "14184    15.279789\n",
       "14185    15.279789\n",
       "Name: extent, Length: 1890, dtype: float64"
      ]
     },
     "execution_count": 552,
     "metadata": {},
     "output_type": "execute_result"
    }
   ],
   "source": [
    "df_observ_x"
   ]
  },
  {
   "cell_type": "code",
   "execution_count": 553,
   "metadata": {},
   "outputs": [
    {
     "data": {
      "text/plain": [
       "0       12.643\n",
       "1       12.644\n",
       "2       12.713\n",
       "3       12.954\n",
       "4       12.956\n",
       "         ...  \n",
       "1885    14.703\n",
       "1886    14.748\n",
       "1887    14.762\n",
       "1888    14.756\n",
       "1889    14.769\n",
       "Name: extent, Length: 1890, dtype: float64"
      ]
     },
     "execution_count": 553,
     "metadata": {},
     "output_type": "execute_result"
    }
   ],
   "source": [
    "df_obs.extent"
   ]
  },
  {
   "cell_type": "code",
   "execution_count": 554,
   "metadata": {},
   "outputs": [
    {
     "name": "stdout",
     "output_type": "stream",
     "text": [
      "Baseline RMSE : 1.28\n"
     ]
    }
   ],
   "source": [
    "rmse_baseline = sqrt(mean_squared_error(df_observ_x, df_obs['extent']))\n",
    "print(\"Baseline RMSE : \" + str(round(rmse_baseline,3)))"
   ]
  }
 ],
 "metadata": {
  "language_info": {
   "name": "python"
  },
  "orig_nbformat": 4
 },
 "nbformat": 4,
 "nbformat_minor": 2
}
