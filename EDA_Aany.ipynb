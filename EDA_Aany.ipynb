{
 "cells": [
  {
   "cell_type": "code",
   "execution_count": 1,
   "metadata": {},
   "outputs": [],
   "source": [
    "import pandas as pd\n"
   ]
  },
  {
   "cell_type": "code",
   "execution_count": 11,
   "metadata": {},
   "outputs": [
    {
     "data": {
      "text/html": [
       "<div>\n",
       "<style scoped>\n",
       "    .dataframe tbody tr th:only-of-type {\n",
       "        vertical-align: middle;\n",
       "    }\n",
       "\n",
       "    .dataframe tbody tr th {\n",
       "        vertical-align: top;\n",
       "    }\n",
       "\n",
       "    .dataframe thead th {\n",
       "        text-align: right;\n",
       "    }\n",
       "</style>\n",
       "<table border=\"1\" class=\"dataframe\">\n",
       "  <thead>\n",
       "    <tr style=\"text-align: right;\">\n",
       "      <th></th>\n",
       "      <th>Year</th>\n",
       "      <th>Month</th>\n",
       "      <th>Day</th>\n",
       "      <th>Extent</th>\n",
       "      <th>Missing</th>\n",
       "      <th>Source Data</th>\n",
       "      <th>hemisphere</th>\n",
       "    </tr>\n",
       "  </thead>\n",
       "  <tbody>\n",
       "    <tr>\n",
       "      <th>26344</th>\n",
       "      <td>2019</td>\n",
       "      <td>5</td>\n",
       "      <td>22</td>\n",
       "      <td>9.611</td>\n",
       "      <td>0.0</td>\n",
       "      <td>['ftp://sidads.colorado.edu/pub/DATASETS/nsidc...</td>\n",
       "      <td>south</td>\n",
       "    </tr>\n",
       "    <tr>\n",
       "      <th>26345</th>\n",
       "      <td>2019</td>\n",
       "      <td>5</td>\n",
       "      <td>23</td>\n",
       "      <td>9.701</td>\n",
       "      <td>0.0</td>\n",
       "      <td>['ftp://sidads.colorado.edu/pub/DATASETS/nsidc...</td>\n",
       "      <td>south</td>\n",
       "    </tr>\n",
       "    <tr>\n",
       "      <th>26346</th>\n",
       "      <td>2019</td>\n",
       "      <td>5</td>\n",
       "      <td>24</td>\n",
       "      <td>9.806</td>\n",
       "      <td>0.0</td>\n",
       "      <td>['ftp://sidads.colorado.edu/pub/DATASETS/nsidc...</td>\n",
       "      <td>south</td>\n",
       "    </tr>\n",
       "    <tr>\n",
       "      <th>26347</th>\n",
       "      <td>2019</td>\n",
       "      <td>5</td>\n",
       "      <td>25</td>\n",
       "      <td>9.918</td>\n",
       "      <td>0.0</td>\n",
       "      <td>['ftp://sidads.colorado.edu/pub/DATASETS/nsidc...</td>\n",
       "      <td>south</td>\n",
       "    </tr>\n",
       "    <tr>\n",
       "      <th>26348</th>\n",
       "      <td>2019</td>\n",
       "      <td>5</td>\n",
       "      <td>26</td>\n",
       "      <td>10.014</td>\n",
       "      <td>0.0</td>\n",
       "      <td>['ftp://sidads.colorado.edu/pub/DATASETS/nsidc...</td>\n",
       "      <td>south</td>\n",
       "    </tr>\n",
       "    <tr>\n",
       "      <th>26349</th>\n",
       "      <td>2019</td>\n",
       "      <td>5</td>\n",
       "      <td>27</td>\n",
       "      <td>10.085</td>\n",
       "      <td>0.0</td>\n",
       "      <td>['ftp://sidads.colorado.edu/pub/DATASETS/nsidc...</td>\n",
       "      <td>south</td>\n",
       "    </tr>\n",
       "    <tr>\n",
       "      <th>26350</th>\n",
       "      <td>2019</td>\n",
       "      <td>5</td>\n",
       "      <td>28</td>\n",
       "      <td>10.078</td>\n",
       "      <td>0.0</td>\n",
       "      <td>['ftp://sidads.colorado.edu/pub/DATASETS/nsidc...</td>\n",
       "      <td>south</td>\n",
       "    </tr>\n",
       "    <tr>\n",
       "      <th>26351</th>\n",
       "      <td>2019</td>\n",
       "      <td>5</td>\n",
       "      <td>29</td>\n",
       "      <td>10.219</td>\n",
       "      <td>0.0</td>\n",
       "      <td>['ftp://sidads.colorado.edu/pub/DATASETS/nsidc...</td>\n",
       "      <td>south</td>\n",
       "    </tr>\n",
       "    <tr>\n",
       "      <th>26352</th>\n",
       "      <td>2019</td>\n",
       "      <td>5</td>\n",
       "      <td>30</td>\n",
       "      <td>10.363</td>\n",
       "      <td>0.0</td>\n",
       "      <td>['ftp://sidads.colorado.edu/pub/DATASETS/nsidc...</td>\n",
       "      <td>south</td>\n",
       "    </tr>\n",
       "    <tr>\n",
       "      <th>26353</th>\n",
       "      <td>2019</td>\n",
       "      <td>5</td>\n",
       "      <td>31</td>\n",
       "      <td>10.436</td>\n",
       "      <td>0.0</td>\n",
       "      <td>['ftp://sidads.colorado.edu/pub/DATASETS/nsidc...</td>\n",
       "      <td>south</td>\n",
       "    </tr>\n",
       "  </tbody>\n",
       "</table>\n",
       "</div>"
      ],
      "text/plain": [
       "       Year   Month   Day       Extent      Missing  \\\n",
       "26344  2019       5    22        9.611          0.0   \n",
       "26345  2019       5    23        9.701          0.0   \n",
       "26346  2019       5    24        9.806          0.0   \n",
       "26347  2019       5    25        9.918          0.0   \n",
       "26348  2019       5    26       10.014          0.0   \n",
       "26349  2019       5    27       10.085          0.0   \n",
       "26350  2019       5    28       10.078          0.0   \n",
       "26351  2019       5    29       10.219          0.0   \n",
       "26352  2019       5    30       10.363          0.0   \n",
       "26353  2019       5    31       10.436          0.0   \n",
       "\n",
       "                                             Source Data hemisphere  \n",
       "26344  ['ftp://sidads.colorado.edu/pub/DATASETS/nsidc...      south  \n",
       "26345  ['ftp://sidads.colorado.edu/pub/DATASETS/nsidc...      south  \n",
       "26346  ['ftp://sidads.colorado.edu/pub/DATASETS/nsidc...      south  \n",
       "26347  ['ftp://sidads.colorado.edu/pub/DATASETS/nsidc...      south  \n",
       "26348  ['ftp://sidads.colorado.edu/pub/DATASETS/nsidc...      south  \n",
       "26349  ['ftp://sidads.colorado.edu/pub/DATASETS/nsidc...      south  \n",
       "26350  ['ftp://sidads.colorado.edu/pub/DATASETS/nsidc...      south  \n",
       "26351  ['ftp://sidads.colorado.edu/pub/DATASETS/nsidc...      south  \n",
       "26352  ['ftp://sidads.colorado.edu/pub/DATASETS/nsidc...      south  \n",
       "26353  ['ftp://sidads.colorado.edu/pub/DATASETS/nsidc...      south  "
      ]
     },
     "execution_count": 11,
     "metadata": {},
     "output_type": "execute_result"
    }
   ],
   "source": [
    "df = pd.read_csv('data/seaice.csv')\n",
    "df.tail(10)"
   ]
  },
  {
   "cell_type": "code",
   "execution_count": 10,
   "metadata": {},
   "outputs": [
    {
     "data": {
      "text/plain": [
       "Index(['Year', ' Month', ' Day', '     Extent', '    Missing', ' Source Data',\n",
       "       'hemisphere'],\n",
       "      dtype='object')"
      ]
     },
     "execution_count": 10,
     "metadata": {},
     "output_type": "execute_result"
    }
   ],
   "source": [
    "df.columns"
   ]
  },
  {
   "cell_type": "code",
   "execution_count": null,
   "metadata": {},
   "outputs": [],
   "source": []
  },
  {
   "cell_type": "code",
   "execution_count": 12,
   "metadata": {},
   "outputs": [],
   "source": [
    "\n",
    "#df['Source Data'][0]"
   ]
  }
 ],
 "metadata": {
  "interpreter": {
   "hash": "7cdc9f0a398a355fdb1da1be0d0ae979f9d42e8ff5cbcaa5ed9051953baa684d"
  },
  "kernelspec": {
   "display_name": "Python 3.9.4 ('.venv': venv)",
   "language": "python",
   "name": "python3"
  },
  "language_info": {
   "codemirror_mode": {
    "name": "ipython",
    "version": 3
   },
   "file_extension": ".py",
   "mimetype": "text/x-python",
   "name": "python",
   "nbconvert_exporter": "python",
   "pygments_lexer": "ipython3",
   "version": "3.9.4"
  },
  "orig_nbformat": 4
 },
 "nbformat": 4,
 "nbformat_minor": 2
}
